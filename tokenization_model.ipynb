{
 "cells": [
  {
   "cell_type": "code",
   "execution_count": 30,
   "id": "11d9c115",
   "metadata": {},
   "outputs": [],
   "source": [
    "import csv\n",
    "import pandas as pd\n",
    "import numpy as np\n",
    "import tensorflow as tf"
   ]
  },
  {
   "cell_type": "code",
   "execution_count": 31,
   "id": "3f87e736",
   "metadata": {},
   "outputs": [
    {
     "name": "stdout",
     "output_type": "stream",
     "text": [
      "First line (header) looks like this:\n",
      "\n",
      "category,text\n",
      "\n",
      "Each data point looks like this:\n",
      "\n",
      "tech,tv future in the hands of viewers with home theatre systems  plasma high-definition tvs  and digital video recorders moving into the living room  the way people watch tv will be radically different in five years  time.  that is according to an expert panel which gathered at the annual consumer electronics show in las vegas to discuss how these new technologies will impact one of our favourite pastimes. with the us leading the trend  programmes and other content will be delivered to viewers via home networks  through cable  satellite  telecoms companies  and broadband service providers to front rooms and portable devices.  one of the most talked-about technologies of ces has been digital and personal video recorders (dvr and pvr). these set-top boxes  like the us s tivo and the uk s sky+ system  allow people to record  store  play  pause and forward wind tv programmes when they want.  essentially  the technology allows for much more personalised tv. they are also being built-in to high-definition tv sets  which are big business in japan and the us  but slower to take off in europe because of the lack of high-definition programming. not only can people forward wind through adverts  they can also forget about abiding by network and channel schedules  putting together their own a-la-carte entertainment. but some us networks and cable and satellite companies are worried about what it means for them in terms of advertising revenues as well as  brand identity  and viewer loyalty to channels. although the us leads in this technology at the moment  it is also a concern that is being raised in europe  particularly with the growing uptake of services like sky+.  what happens here today  we will see in nine months to a years  time in the uk   adam hume  the bbc broadcast s futurologist told the bbc news website. for the likes of the bbc  there are no issues of lost advertising revenue yet. it is a more pressing issue at the moment for commercial uk broadcasters  but brand loyalty is important for everyone.  we will be talking more about content brands rather than network brands   said tim hanlon  from brand communications firm starcom mediavest.  the reality is that with broadband connections  anybody can be the producer of content.  he added:  the challenge now is that it is hard to promote a programme with so much choice.   what this means  said stacey jolna  senior vice president of tv guide tv group  is that the way people find the content they want to watch has to be simplified for tv viewers. it means that networks  in us terms  or channels could take a leaf out of google s book and be the search engine of the future  instead of the scheduler to help people find what they want to watch. this kind of channel model might work for the younger ipod generation which is used to taking control of their gadgets and what they play on them. but it might not suit everyone  the panel recognised. older generations are more comfortable with familiar schedules and channel brands because they know what they are getting. they perhaps do not want so much of the choice put into their hands  mr hanlon suggested.  on the other end  you have the kids just out of diapers who are pushing buttons already - everything is possible and available to them   said mr hanlon.  ultimately  the consumer will tell the market they want.   of the 50 000 new gadgets and technologies being showcased at ces  many of them are about enhancing the tv-watching experience. high-definition tv sets are everywhere and many new models of lcd (liquid crystal display) tvs have been launched with dvr capability built into them  instead of being external boxes. one such example launched at the show is humax s 26-inch lcd tv with an 80-hour tivo dvr and dvd recorder. one of the us s biggest satellite tv companies  directtv  has even launched its own branded dvr at the show with 100-hours of recording capability  instant replay  and a search function. the set can pause and rewind tv for up to 90 hours. and microsoft chief bill gates announced in his pre-show keynote speech a partnership with tivo  called tivotogo  which means people can play recorded programmes on windows pcs and mobile devices. all these reflect the increasing trend of freeing up multimedia so that people can watch what they want  when they want.\n",
      "\n"
     ]
    }
   ],
   "source": [
    "with open(\"./data/bbc-text.csv\", 'r') as csvfile:\n",
    "    print(f\"First line (header) looks like this:\\n\\n{csvfile.readline()}\")\n",
    "    print(f\"Each data point looks like this:\\n\\n{csvfile.readline()}\")"
   ]
  },
  {
   "cell_type": "code",
   "execution_count": 32,
   "id": "9f77b705",
   "metadata": {},
   "outputs": [],
   "source": [
    "def parse_data_from_file(filename):\n",
    "    sentences=[]\n",
    "    labels=[]\n",
    "    data=pd.read_csv(filename)\n",
    "\n",
    "    #iterating the data using itertuple\n",
    "    for row in data.itertuples():\n",
    "        sentences.append(row.text)\n",
    "        labels.append(row.category)\n",
    "    return sentences,labels"
   ]
  },
  {
   "cell_type": "code",
   "execution_count": 33,
   "id": "6e13b357",
   "metadata": {},
   "outputs": [
    {
     "name": "stdout",
     "output_type": "stream",
     "text": [
      "There are 2225 sentences in the dataset.\n",
      "\n",
      "First sentence has 737 words.\n",
      "\n",
      "There are 2225 labels in the dataset.\n",
      "\n",
      "The first 5 labels are ['tech', 'business', 'sport', 'sport', 'entertainment']\n",
      "\n",
      "\n"
     ]
    }
   ],
   "source": [
    "sentences, labels = parse_data_from_file(\"./data/bbc-text.csv\")\n",
    "print(f\"There are {len(sentences)} sentences in the dataset.\\n\")\n",
    "print(f\"First sentence has {len(sentences[0].split())} words.\\n\")\n",
    "print(f\"There are {len(labels)} labels in the dataset.\\n\")\n",
    "print(f\"The first 5 labels are {labels[:5]}\\n\\n\")"
   ]
  },
  {
   "cell_type": "markdown",
   "id": "7b9aaec7",
   "metadata": {},
   "source": [
    "## Now lets standardize the sentences.\n",
    "This is crucial step since we need to extract only the valuable information out of it.\n",
    "For instance, you probably want to convert it all to lower-case (so the same word doesn't have different representations such as \"hello\" and \"Hello\") and to remove the stopwords from it. These are the most common words in the language and they rarely provide useful information for the classification process."
   ]
  },
  {
   "cell_type": "code",
   "execution_count": 34,
   "id": "5505bba1",
   "metadata": {},
   "outputs": [],
   "source": [
    "# List of stopwords\n",
    "STOPWORDS = [\"a\", \"about\", \"above\", \"after\", \"again\", \"against\", \"all\", \"am\", \"an\", \"and\", \"any\", \"are\", \"as\", \"at\", \"be\", \"because\", \"been\", \"before\", \"being\", \"below\", \"between\", \"both\", \"but\", \"by\", \"could\", \"did\", \"do\", \"does\", \"doing\", \"down\", \"during\", \"each\", \"few\", \"for\", \"from\", \"further\", \"had\", \"has\", \"have\", \"having\", \"he\", \"he'd\", \"he'll\", \"he's\", \"her\", \"here\", \"here's\", \"hers\", \"herself\", \"him\", \"himself\", \"his\", \"how\", \"how's\", \"i\", \"i'd\", \"i'll\", \"i'm\", \"i've\", \"if\", \"in\", \"into\", \"is\", \"it\", \"it's\", \"its\", \"itself\", \"let's\", \"me\", \"more\", \"most\", \"my\", \"myself\", \"nor\", \"of\", \"on\", \"once\", \"only\", \"or\", \"other\", \"ought\", \"our\", \"ours\", \"ourselves\", \"out\", \"over\", \"own\", \"same\", \"she\", \"she'd\", \"she'll\", \"she's\", \"should\", \"so\", \"some\", \"such\", \"than\", \"that\", \"that's\", \"the\", \"their\", \"theirs\", \"them\", \"themselves\", \"then\", \"there\", \"there's\", \"these\", \"they\", \"they'd\", \"they'll\", \"they're\", \"they've\", \"this\", \"those\", \"through\", \"to\", \"too\", \"under\", \"until\", \"up\", \"very\", \"was\", \"we\", \"we'd\", \"we'll\", \"we're\", \"we've\", \"were\", \"what\", \"what's\", \"when\", \"when's\", \"where\", \"where's\", \"which\", \"while\", \"who\", \"who's\", \"whom\", \"why\", \"why's\", \"with\", \"would\", \"you\", \"you'd\", \"you'll\", \"you're\", \"you've\", \"your\", \"yours\", \"yourself\", \"yourselves\" ]"
   ]
  },
  {
   "cell_type": "code",
   "execution_count": 35,
   "id": "214307e4",
   "metadata": {},
   "outputs": [],
   "source": [
    "def standardize_func(sentences):\n",
    "    words=sentences.split()\n",
    "    temp=[]\n",
    "    for word in words:\n",
    "        word=word.lower()\n",
    "        if word not in STOPWORDS:\n",
    "            temp.append(word)\n",
    "    sentences=\" \".join(temp)\n",
    "    return sentences"
   ]
  },
  {
   "cell_type": "code",
   "execution_count": 36,
   "id": "a0b1162e",
   "metadata": {},
   "outputs": [
    {
     "name": "stdout",
     "output_type": "stream",
     "text": [
      "Original sentence is:\n",
      "Hello! We're just about to see this function in action :)\n",
      "\n",
      "After standardizing:\n",
      "hello! just see function action :)\n",
      "\n",
      "\n",
      "--- Apply the standardization to the dataset ---\n",
      "\n",
      "There are 2225 sentences in the dataset.\n",
      "\n",
      "First sentence has 737 words originally.\n",
      "\n",
      "First sentence has 436 words (after removing stopwords).\n",
      "\n"
     ]
    }
   ],
   "source": [
    "test_sentence = \"Hello! We're just about to see this function in action :)\"\n",
    "standardized_sentence = standardize_func(test_sentence)\n",
    "print(f\"Original sentence is:\\n{test_sentence}\\n\\nAfter standardizing:\\n{standardized_sentence}\")\n",
    "\n",
    "standard_sentences = [standardize_func(sentence) for sentence in sentences]\n",
    "\n",
    "print(\"\\n\\n--- Apply the standardization to the dataset ---\\n\")\n",
    "print(f\"There are {len(standard_sentences)} sentences in the dataset.\\n\")\n",
    "print(f\"First sentence has {len(sentences[0].split())} words originally.\\n\")\n",
    "print(f\"First sentence has {len(standard_sentences[0].split())} words (after removing stopwords).\\n\")"
   ]
  },
  {
   "cell_type": "markdown",
   "id": "0552a8c7",
   "metadata": {},
   "source": [
    "## TextVectorization\n",
    "Now that data is standardized, it is time to vectorize the sentences of the dataset.This is the step where we will try to generate tokes out of the words of the sentences"
   ]
  },
  {
   "cell_type": "code",
   "execution_count": 37,
   "id": "2fdb7010",
   "metadata": {},
   "outputs": [],
   "source": [
    "def fit_vectorizer(sentences):\n",
    "    vectorizer=tf.keras.layers.TextVectorization()\n",
    "    vectorizer.adapt(sentences)\n",
    "    return vectorizer"
   ]
  },
  {
   "cell_type": "code",
   "execution_count": 38,
   "id": "924852b8",
   "metadata": {},
   "outputs": [
    {
     "name": "stdout",
     "output_type": "stream",
     "text": [
      "Vocabulary contains 33088 words\n",
      "\n",
      "[UNK] token included in vocabulary\n",
      "first 100 words:\n",
      "['', '[UNK]', 's', 'said', 'will', 'not', 'mr', 'also', 'people', 'new', 'us', 'year', 'one', 'can', 'last', 't', 'first', 'world', 'two', 'government', 'time', 'now', 'uk', 'years', 'just', 'no', 'make', 'best', 'told', 'get', 'game', 'made', 'film', 'like', 'music', 'many', 'labour', '000', 'next', 'bbc', 'back', 'three', 'number', 'take', 'added', 'way', 'set', 'well', 'says', 'may', 'market', 'company', 'home', 'good', '2004', 'going', 'still', 'england', 'games', 'election', 'party', 'much', 'win', 'since', 'firm', 'work', 'go', 'blair', 'won', 'show', 'think', 'use', 'say', 'week', 'million', 'play', 'part', 'off', 'minister', 'want', 'public', 'top', 'technology', 'second', 'see', 'british', 'used', 'players', 'news', 'european', 'mobile', 'however', 'country', 'tv', 'group', 'even', 'sales', 'expected', 'end', 'plans']\n"
     ]
    }
   ],
   "source": [
    "vectorizer = fit_vectorizer(standard_sentences)\n",
    "vocabulary = vectorizer.get_vocabulary()\n",
    "\n",
    "print(f\"Vocabulary contains {len(vocabulary)} words\\n\")\n",
    "print(\"[UNK] token included in vocabulary\" if \"[UNK]\" in vocabulary else \"[UNK] token NOT included in vocabulary\")\n",
    "print(f\"first 100 words:\\n{vocabulary[:100]}\")"
   ]
  },
  {
   "cell_type": "markdown",
   "id": "58cda449",
   "metadata": {},
   "source": [
    "## Generate tokens\n",
    "Now we have our vocabulary to genarte token for the sentences.In the next step we will generate tokens for the sentences."
   ]
  },
  {
   "cell_type": "code",
   "execution_count": 39,
   "id": "0bd3e2d5",
   "metadata": {},
   "outputs": [
    {
     "name": "stdout",
     "output_type": "stream",
     "text": [
      "sample text:This is my sample sentence\n",
      "this is sample text tokens:[ 2052  2424 17561  6607  2095]\n",
      "\n",
      "First padded sequence looks like this: \n",
      "[[   93   155  1186 ...     0     0     0]\n",
      " [ 1560   611   277 ...     0     0     0]\n",
      " [ 4960  6975  3850 ...     0     0     0]\n",
      " ...\n",
      " [ 5860  2138     9 ...     0     0     0]\n",
      " [  358 10057 22930 ...     0     0     0]\n",
      " [ 2405  7987   886 ...     0     0     0]]\n",
      "\n",
      "Tensor of all sequences has shape: (2225, 2418)\n",
      "\n",
      "This means there are 2225 sequences in total and each one has a size of 2418\n"
     ]
    }
   ],
   "source": [
    "#sample \n",
    "sample_sentence=\"This is my sample sentence\"\n",
    "sample_sentence_padded_sequences=vectorizer(sample_sentence)\n",
    "\n",
    "print(f\"sample text:{sample_sentence}\\nthis is sample text tokens:{sample_sentence_padded_sequences}\\n\")\n",
    "\n",
    "# Vectorize and pad sentences\n",
    "padded_sequences = vectorizer(standard_sentences)\n",
    "\n",
    "# Show the output\n",
    "print(f\"First padded sequence looks like this: \\n{padded_sequences}\\n\")\n",
    "print(f\"Tensor of all sequences has shape: {padded_sequences.shape}\\n\")\n",
    "print(f\"This means there are {padded_sequences.shape[0]} sequences in total and each one has a size of {padded_sequences.shape[1]}\")"
   ]
  },
  {
   "cell_type": "markdown",
   "id": "8d7bed5d",
   "metadata": {},
   "source": [
    "With the sentences already vectorized it is time to encode the labels"
   ]
  },
  {
   "cell_type": "code",
   "execution_count": 40,
   "id": "b409984c",
   "metadata": {},
   "outputs": [],
   "source": [
    "def fit_label_encoder(labels):\n",
    "    label_encoder = tf.keras.layers.StringLookup(num_oov_indices=0)\n",
    "    label_encoder.adapt(labels)\n",
    "    return label_encoder"
   ]
  },
  {
   "cell_type": "code",
   "execution_count": 41,
   "id": "b6c5975a",
   "metadata": {},
   "outputs": [
    {
     "name": "stdout",
     "output_type": "stream",
     "text": [
      "Vocabulary of labels looks like this: ['sport', 'business', 'politics', 'tech', 'entertainment']\n",
      "\n",
      "First ten labels: ['tech', 'business', 'sport', 'sport', 'entertainment', 'politics', 'politics', 'sport', 'sport', 'entertainment']\n",
      "\n",
      "First ten label sequences: [3 1 0 0 4 2 2 0 0 4]\n",
      "\n"
     ]
    }
   ],
   "source": [
    "# Create the encoder adapted to the labels\n",
    "label_encoder = fit_label_encoder(labels)\n",
    "\n",
    "# Get the vocabulary\n",
    "vocabulary = label_encoder.get_vocabulary()\n",
    "\n",
    "# Encode labels\n",
    "label_sequences = label_encoder(labels)\n",
    "\n",
    "print(f\"Vocabulary of labels looks like this: {vocabulary}\\n\")\n",
    "print(f\"First ten labels: {labels[:10]}\\n\")\n",
    "print(f\"First ten label sequences: {label_sequences[:10]}\\n\")"
   ]
  },
  {
   "cell_type": "code",
   "execution_count": null,
   "id": "453dbc62",
   "metadata": {},
   "outputs": [],
   "source": []
  }
 ],
 "metadata": {
  "kernelspec": {
   "display_name": "venv",
   "language": "python",
   "name": "python3"
  },
  "language_info": {
   "codemirror_mode": {
    "name": "ipython",
    "version": 3
   },
   "file_extension": ".py",
   "mimetype": "text/x-python",
   "name": "python",
   "nbconvert_exporter": "python",
   "pygments_lexer": "ipython3",
   "version": "3.8.0"
  }
 },
 "nbformat": 4,
 "nbformat_minor": 5
}
